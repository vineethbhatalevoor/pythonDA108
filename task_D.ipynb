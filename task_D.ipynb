{
 "cells": [
  {
   "cell_type": "code",
   "execution_count": 7,
   "id": "cde351c9-4b49-4c3b-bf71-3f5ada36fffd",
   "metadata": {},
   "outputs": [
    {
     "name": "stdin",
     "output_type": "stream",
     "text": [
      "Coefficient a:  5\n",
      "Coefficient b:  25\n",
      "Coefficient c:  9\n"
     ]
    },
    {
     "name": "stdout",
     "output_type": "stream",
     "text": [
      "Roots: -0.3904976890271012 and -4.609502310972898\n"
     ]
    }
   ],
   "source": [
    "import math\n",
    "\n",
    "# Take input for the coefficients a, b, and c\n",
    "a = float(input(\"Coefficient a: \"))\n",
    "b = float(input(\"Coefficient b: \"))\n",
    "c = float(input(\"Coefficient c: \"))\n",
    "\n",
    "# Compute the discriminant\n",
    "discriminant = b**2 - 4*a*c\n",
    "\n",
    "if discriminant > 0:\n",
    "    # Two real and distinct roots\n",
    "    root1 = (-b + math.sqrt(discriminant)) / (2 * a)\n",
    "    root2 = (-b - math.sqrt(discriminant)) / (2 * a)\n",
    "    print(\"Roots:\", root1, \"and\", root2)\n",
    "elif discriminant == 0:\n",
    "    # One real root\n",
    "    root = -b / (2 * a)\n",
    "    print(\"Root:\", root)\n",
    "else:\n",
    "    # No real roots\n",
    "    print(\"Roots: No real roots\")\n"
   ]
  }
 ],
 "metadata": {
  "kernelspec": {
   "display_name": "Python 3 (ipykernel)",
   "language": "python",
   "name": "python3"
  },
  "language_info": {
   "codemirror_mode": {
    "name": "ipython",
    "version": 3
   },
   "file_extension": ".py",
   "mimetype": "text/x-python",
   "name": "python",
   "nbconvert_exporter": "python",
   "pygments_lexer": "ipython3",
   "version": "3.12.4"
  }
 },
 "nbformat": 4,
 "nbformat_minor": 5
}
