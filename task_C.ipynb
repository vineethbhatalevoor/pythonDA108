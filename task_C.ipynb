{
 "cells": [
  {
   "cell_type": "code",
   "execution_count": 1,
   "id": "bf08a5d9-db7e-4bfe-972a-3a212ff67ea4",
   "metadata": {},
   "outputs": [
    {
     "name": "stdin",
     "output_type": "stream",
     "text": [
      "Enter the radius of the circle:  12\n"
     ]
    },
    {
     "name": "stdout",
     "output_type": "stream",
     "text": [
      "Radius: 12.0 units\n",
      "Area: 452.38895999999994 square units\n"
     ]
    }
   ],
   "source": [
    "# Define the value of pi\n",
    "pi = 3.14159\n",
    "\n",
    "# Take input for the radius of the circle\n",
    "radius = float(input(\"Enter the radius of the circle: \"))\n",
    "\n",
    "# Compute the area using the formula A = π * r * r\n",
    "area = pi * radius * radius\n",
    "\n",
    "# Print the result\n",
    "print(\"Radius:\", radius, \"units\")\n",
    "print(\"Area:\", area, \"square units\")\n"
   ]
  }
 ],
 "metadata": {
  "kernelspec": {
   "display_name": "Python 3 (ipykernel)",
   "language": "python",
   "name": "python3"
  },
  "language_info": {
   "codemirror_mode": {
    "name": "ipython",
    "version": 3
   },
   "file_extension": ".py",
   "mimetype": "text/x-python",
   "name": "python",
   "nbconvert_exporter": "python",
   "pygments_lexer": "ipython3",
   "version": "3.12.4"
  }
 },
 "nbformat": 4,
 "nbformat_minor": 5
}
