{
 "cells": [
  {
   "cell_type": "code",
   "execution_count": 1,
   "id": "47734fa0-c074-4250-9b74-f211f8c4db2e",
   "metadata": {},
   "outputs": [
    {
     "name": "stdin",
     "output_type": "stream",
     "text": [
      "Enter the mass of the object (or type 'q' to quit):  1230\n"
     ]
    },
    {
     "name": "stdout",
     "output_type": "stream",
     "text": [
      "Mass: 1230.0 kg\n",
      "Energy: 110700000000000000000.00 Joules\n"
     ]
    },
    {
     "name": "stdin",
     "output_type": "stream",
     "text": [
      "Enter the mass of the object (or type 'q' to quit):  q\n"
     ]
    },
    {
     "name": "stdout",
     "output_type": "stream",
     "text": [
      "Exiting the program.\n"
     ]
    }
   ],
   "source": [
    "# Define the speed of light in meters per second\n",
    "c = 300000000\n",
    "\n",
    "while True:\n",
    "    # Take input for mass\n",
    "    mass_input = input(\"Enter the mass of the object (or type 'q' to quit): \")\n",
    "\n",
    "    # Check if user wants to quit\n",
    "    if mass_input.lower() == 'q':\n",
    "        print(\"Exiting the program.\")\n",
    "        break\n",
    "\n",
    "    # Convert the mass input to a number\n",
    "    mass = float(mass_input)\n",
    "\n",
    "    # Compute the energy using E = m * c * c\n",
    "    energy = mass * c * c\n",
    "\n",
    "    # Print the result without scientific notation\n",
    "    print(f\"Mass: {mass} kg\")\n",
    "    print(f\"Energy: {energy:.2f} Joules\")\n"
   ]
  }
 ],
 "metadata": {
  "kernelspec": {
   "display_name": "Python 3 (ipykernel)",
   "language": "python",
   "name": "python3"
  },
  "language_info": {
   "codemirror_mode": {
    "name": "ipython",
    "version": 3
   },
   "file_extension": ".py",
   "mimetype": "text/x-python",
   "name": "python",
   "nbconvert_exporter": "python",
   "pygments_lexer": "ipython3",
   "version": "3.12.4"
  }
 },
 "nbformat": 4,
 "nbformat_minor": 5
}
