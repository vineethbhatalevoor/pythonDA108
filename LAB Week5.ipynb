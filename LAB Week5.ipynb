{
 "cells": [
  {
   "cell_type": "code",
   "execution_count": 3,
   "metadata": {},
   "outputs": [
    {
     "name": "stdout",
     "output_type": "stream",
     "text": [
      "The factorial of 4 is 24.\n"
     ]
    }
   ],
   "source": [
    "# Function to calculate the factorial of a given number\n",
    "def factorial(n):\n",
    "    result = 1\n",
    "    for i in range(1, n + 1):\n",
    "        result *= i\n",
    "    return result\n",
    "\n",
    "# Prompt the user to enter a non-negative integer\n",
    "number = int(input(\"Enter a non-negative integer: \"))\n",
    "\n",
    "# Check if the number is non-negative\n",
    "if number < 0:\n",
    "    print(\"Factorial is not defined for negative numbers.\")\n",
    "else:\n",
    "    # Calculate and display the factorial\n",
    "    print(f\"The factorial of {number} is {factorial(number)}.\")\n"
   ]
  },
  {
   "cell_type": "code",
   "execution_count": 4,
   "metadata": {},
   "outputs": [
    {
     "name": "stdout",
     "output_type": "stream",
     "text": [
      "4 is not a prime number.\n"
     ]
    }
   ],
   "source": [
    "# Function to check if a number is prime\n",
    "def is_prime(n):\n",
    "    if n <= 1:\n",
    "        return False\n",
    "    for i in range(2, int(n**0.5) + 1):\n",
    "        if n % i == 0:\n",
    "            return False\n",
    "    return True\n",
    "\n",
    "# Prompt the user to enter a number\n",
    "number = int(input(\"Enter a number: \"))\n",
    "\n",
    "# Check if the number is prime and print the result\n",
    "if is_prime(number):\n",
    "    print(f\"{number} is a prime number.\")\n",
    "else:\n",
    "    print(f\"{number} is not a prime number.\")\n"
   ]
  },
  {
   "cell_type": "code",
   "execution_count": 5,
   "metadata": {},
   "outputs": [
    {
     "name": "stdout",
     "output_type": "stream",
     "text": [
      "Your guess is too high.\n",
      "Your guess is too high.\n",
      "Your guess is too high.\n",
      "Your guess is too low.\n",
      "Your guess is too high.\n",
      "Your guess is too high.\n",
      "Your guess is high or low.\n",
      "Your guess is too high.\n",
      "Your guess is high or low.\n",
      "Your guess is high or low.\n",
      "You are very close!\n",
      "You are very close!\n",
      "You are very close!\n",
      "You are very close!\n",
      "You are very close!\n",
      "You are very close!\n",
      "You are very close!\n",
      "Congratulations! You guessed the number correctly in 18 attempts.\n"
     ]
    }
   ],
   "source": [
    "import random\n",
    "\n",
    "# Assign a random integer number between 0 and 100 to a variable\n",
    "number_to_guess = random.randint(0, 100)\n",
    "\n",
    "# Initialize the number of attempts\n",
    "attempts = 0\n",
    "\n",
    "# Start the guessing game\n",
    "while True:\n",
    "    # Prompt the user to enter their guess\n",
    "    guess = int(input(\"Enter your guess (between 0 and 100): \"))\n",
    "    attempts += 1\n",
    "    \n",
    "    # Calculate the absolute difference\n",
    "    difference = abs(number_to_guess - guess)\n",
    "    \n",
    "    # Provide hints based on the difference\n",
    "    if difference == 0:\n",
    "        print(f\"Congratulations! You guessed the number correctly in {attempts} attempts.\")\n",
    "        break\n",
    "    elif difference <= 5:\n",
    "        print(\"You are very close!\")\n",
    "    elif difference <= 10:\n",
    "        print(\"Your guess is high or low.\")\n",
    "    else:\n",
    "        if guess > number_to_guess:\n",
    "            print(\"Your guess is too high.\")\n",
    "        else:\n",
    "            print(\"Your guess is too low.\")\n"
   ]
  },
  {
   "cell_type": "code",
   "execution_count": 12,
   "metadata": {},
   "outputs": [
    {
     "name": "stdout",
     "output_type": "stream",
     "text": [
      "Snake case: c_ame_l\n"
     ]
    }
   ],
   "source": [
    "import re\n",
    "\n",
    "# Function to convert camel case to snake case\n",
    "def camel_to_snake(camel_case_str):\n",
    "    # Check if the input is in camel case\n",
    "    if not re.match(r'^[a-zA-Z]+$', camel_case_str):\n",
    "        return \"Invalid input. Please enter a camel case variable name.\"\n",
    "    \n",
    "    # Convert camel case to snake case\n",
    "    snake_case_str = re.sub(r'([A-Z])', r'_\\1', camel_case_str).lower()\n",
    "    return snake_case_str\n",
    "\n",
    "# Prompt the user to enter a camel case variable name\n",
    "camel_case_var = input(\"Enter a camel case variable name: \")\n",
    "\n",
    "# Convert and display the snake case variable name\n",
    "snake_case_var = camel_to_snake(camel_case_var)\n",
    "print(f\"Snake case: {snake_case_var}\")\n"
   ]
  },
  {
   "cell_type": "code",
   "execution_count": 13,
   "metadata": {},
   "outputs": [
    {
     "name": "stdout",
     "output_type": "stream",
     "text": [
      "Shortened message: Wlcm\n"
     ]
    }
   ],
   "source": [
    "# Function to remove vowels from the input text\n",
    "def remove_vowels(text):\n",
    "    vowels = \"aeiouAEIOU\"\n",
    "    return ''.join([char for char in text if char not in vowels])\n",
    "\n",
    "# Prompt the user to enter a text message\n",
    "text_message = input(\"Enter a text message: \")\n",
    "\n",
    "# Remove vowels and display the shortened message\n",
    "shortened_message = remove_vowels(text_message)\n",
    "print(f\"Shortened message: {shortened_message}\")\n"
   ]
  }
 ],
 "metadata": {
  "kernelspec": {
   "display_name": "Python 3",
   "language": "python",
   "name": "python3"
  },
  "language_info": {
   "codemirror_mode": {
    "name": "ipython",
    "version": 3
   },
   "file_extension": ".py",
   "mimetype": "text/x-python",
   "name": "python",
   "nbconvert_exporter": "python",
   "pygments_lexer": "ipython3",
   "version": "3.12.4"
  }
 },
 "nbformat": 4,
 "nbformat_minor": 2
}
