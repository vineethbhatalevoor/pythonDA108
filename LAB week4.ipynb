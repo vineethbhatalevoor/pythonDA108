{
 "cells": [
  {
   "cell_type": "code",
   "execution_count": 5,
   "metadata": {},
   "outputs": [
    {
     "name": "stdout",
     "output_type": "stream",
     "text": [
      "Your current age is: 18\n",
      "Days remaining until your next birthday: 215\n"
     ]
    }
   ],
   "source": [
    "from datetime import datetime, date\n",
    "\n",
    "# Prompt the user to enter their birth year, month, and day\n",
    "birth_year = int(input(\"Enter your birth year (YYYY): \"))\n",
    "birth_month = int(input(\"Enter your birth month (MM): \"))\n",
    "birth_day = int(input(\"Enter your birth day (DD): \"))\n",
    "\n",
    "# Calculate current age\n",
    "current_date = datetime.now()\n",
    "birth_date = date(birth_year, birth_month, birth_day)\n",
    "age = current_date.year - birth_date.year\n",
    "\n",
    "# Check if the birthday has already occurred this year\n",
    "if (current_date.month, current_date.day) < (birth_month, birth_day):\n",
    "    age -= 1\n",
    "\n",
    "# Determine the date of the next birthday\n",
    "next_birthday = date(current_date.year, birth_month, birth_day)\n",
    "if current_date.date() > next_birthday:\n",
    "    next_birthday = date(current_date.year + 1, birth_month, birth_day)\n",
    "\n",
    "# Calculate the countdown (in days) to the upcoming birthday\n",
    "days_until_birthday = (next_birthday - current_date.date()).days\n",
    "\n",
    "# Display the results\n",
    "print(f\"Your current age is: {age}\")\n",
    "print(f\"Days remaining until your next birthday: {days_until_birthday}\")\n"
   ]
  },
  {
   "cell_type": "code",
   "execution_count": 1,
   "metadata": {},
   "outputs": [
    {
     "name": "stdout",
     "output_type": "stream",
     "text": [
      "---------------------\n",
      "Here is the Grade Card:\n",
      "---------------------\n",
      "Student Name: Vineeth\n",
      "Student Roll: C47\n",
      "Grade in Maths: A\n",
      "Grade in Physics: A\n",
      "Grade in Chemistry: A\n",
      "Overall Grade: A\n",
      "---------------------\n",
      "Thank you!\n"
     ]
    }
   ],
   "source": [
    "def compute_grade(score):\n",
    "    if score >= 90:\n",
    "        return 'A'\n",
    "    elif score >= 80:\n",
    "        return 'B'\n",
    "    elif score >= 70:\n",
    "        return 'C'\n",
    "    elif score >= 60:\n",
    "        return 'D'\n",
    "    else:\n",
    "        return 'F'\n",
    "\n",
    "# Prompt the instructor to enter student's details and scores\n",
    "student_name = input(\"Enter Student Name: \")\n",
    "student_roll = input(\"Enter Roll No: \")\n",
    "maths_score = int(input(\"Enter marks in Maths: \"))\n",
    "physics_score = int(input(\"Enter marks in Physics: \"))\n",
    "chemistry_score = int(input(\"Enter marks in Chemistry: \"))\n",
    "\n",
    "# Compute grades for each subject\n",
    "maths_grade = compute_grade(maths_score)\n",
    "physics_grade = compute_grade(physics_score)\n",
    "chemistry_grade = compute_grade(chemistry_score)\n",
    "\n",
    "# Compute the overall grade\n",
    "overall_score = (maths_score + physics_score + chemistry_score) / 3\n",
    "overall_grade = compute_grade(overall_score)\n",
    "\n",
    "# Display the grade card\n",
    "print(\"---------------------\")\n",
    "print(\"Here is the Grade Card:\")\n",
    "print(\"---------------------\")\n",
    "print(f\"Student Name: {student_name}\")\n",
    "print(f\"Student Roll: {student_roll}\")\n",
    "print(f\"Grade in Maths: {maths_grade}\")\n",
    "print(f\"Grade in Physics: {physics_grade}\")\n",
    "print(f\"Grade in Chemistry: {chemistry_grade}\")\n",
    "print(f\"Overall Grade: {overall_grade}\")\n",
    "print(\"---------------------\")\n",
    "print(\"Thank you!\")\n"
   ]
  },
  {
   "cell_type": "code",
   "execution_count": 2,
   "metadata": {},
   "outputs": [
    {
     "name": "stdout",
     "output_type": "stream",
     "text": [
      "89.0°F is equal to 31.67°C\n"
     ]
    }
   ],
   "source": [
    "# Function to convert Celsius to Fahrenheit\n",
    "def celsius_to_fahrenheit(celsius):\n",
    "    return (celsius * 9/5) + 32\n",
    "\n",
    "# Function to convert Fahrenheit to Celsius\n",
    "def fahrenheit_to_celsius(fahrenheit):\n",
    "    return (fahrenheit - 32) * 5/9\n",
    "\n",
    "# Prompt the user to enter the temperature and its unit\n",
    "temperature = float(input(\"Enter the temperature: \"))\n",
    "unit = input(\"Enter the unit (C for Celsius, F for Fahrenheit): \").upper()\n",
    "\n",
    "# Perform the conversion based on the unit provided\n",
    "if unit == 'C':\n",
    "    converted_temp = celsius_to_fahrenheit(temperature)\n",
    "    print(f\"{temperature}°C is equal to {converted_temp:.2f}°F\")\n",
    "elif unit == 'F':\n",
    "    converted_temp = fahrenheit_to_celsius(temperature)\n",
    "    print(f\"{temperature}°F is equal to {converted_temp:.2f}°C\")\n",
    "else:\n",
    "    print(\"Invalid unit. Please enter C for Celsius or F for Fahrenheit.\")\n"
   ]
  },
  {
   "cell_type": "code",
   "execution_count": 4,
   "metadata": {},
   "outputs": [
    {
     "name": "stdout",
     "output_type": "stream",
     "text": [
      "Invalid username.\n"
     ]
    }
   ],
   "source": [
    "# Function to check if the username is valid\n",
    "def is_valid_username(username):\n",
    "    if len(username) < 5:\n",
    "        return False\n",
    "    if not username.isalnum():\n",
    "        return False\n",
    "    return True\n",
    "\n",
    "# Prompt the user to enter a username\n",
    "username = input(\"Enter a username: \")\n",
    "\n",
    "# Validate the username and print the result\n",
    "if is_valid_username(username):\n",
    "    print(\"Valid username.\")\n",
    "else:\n",
    "    print(\"Invalid username.\")\n"
   ]
  },
  {
   "cell_type": "code",
   "execution_count": 5,
   "metadata": {},
   "outputs": [
    {
     "name": "stdout",
     "output_type": "stream",
     "text": [
      "The first string is longer.\n"
     ]
    }
   ],
   "source": [
    "# Prompt the user to enter two strings\n",
    "string1 = input(\"Enter the first string: \")\n",
    "string2 = input(\"Enter the second string: \")\n",
    "\n",
    "# Compare the lengths of the two strings\n",
    "if len(string1) > len(string2):\n",
    "    print(\"The first string is longer.\")\n",
    "elif len(string1) < len(string2):\n",
    "    print(\"The second string is longer.\")\n",
    "else:\n",
    "    print(\"Both strings are of equal length.\")\n"
   ]
  },
  {
   "cell_type": "code",
   "execution_count": null,
   "metadata": {},
   "outputs": [],
   "source": []
  }
 ],
 "metadata": {
  "kernelspec": {
   "display_name": "Python 3",
   "language": "python",
   "name": "python3"
  },
  "language_info": {
   "codemirror_mode": {
    "name": "ipython",
    "version": 3
   },
   "file_extension": ".py",
   "mimetype": "text/x-python",
   "name": "python",
   "nbconvert_exporter": "python",
   "pygments_lexer": "ipython3",
   "version": "3.12.4"
  }
 },
 "nbformat": 4,
 "nbformat_minor": 2
}
