{
 "cells": [
  {
   "cell_type": "code",
   "execution_count": 1,
   "id": "809caf83-4a3c-4b21-ba61-074107d232ab",
   "metadata": {},
   "outputs": [
    {
     "name": "stdin",
     "output_type": "stream",
     "text": [
      "Enter a password:  vineeth0935@23##\n"
     ]
    },
    {
     "name": "stdout",
     "output_type": "stream",
     "text": [
      "Password length: 16 characters\n",
      "Contains uppercase letters: False\n",
      "Contains lowercase letters: True\n",
      "Contains digits: True\n",
      "Contains special characters: True\n"
     ]
    }
   ],
   "source": [
    "# Prompt the user to enter a password\n",
    "password = input(\"Enter a password: \")\n",
    "\n",
    "# Display the length of the password\n",
    "print(\"Password length:\", len(password), \"characters\")\n",
    "\n",
    "# Check and display if the password contains uppercase letters\n",
    "print(\"Contains uppercase letters:\", any(char.isupper() for char in password))\n",
    "\n",
    "# Check and display if the password contains lowercase letters\n",
    "print(\"Contains lowercase letters:\", any(char.islower() for char in password))\n",
    "\n",
    "# Check and display if the password contains digits\n",
    "print(\"Contains digits:\", any(char.isdigit() for char in password))\n",
    "\n",
    "# Check and display if the password contains special characters\n",
    "print(\"Contains special characters:\", any(not char.isalnum() for char in password))\n"
   ]
  },
  {
   "cell_type": "code",
   "execution_count": 5,
   "id": "836f10a9-0e3a-4c04-bc56-cb68cea48125",
   "metadata": {},
   "outputs": [
    {
     "name": "stdin",
     "output_type": "stream",
     "text": [
      "Enter a password:  hello\n"
     ]
    },
    {
     "name": "stdout",
     "output_type": "stream",
     "text": [
      "Password length: 5 characters\n",
      "Contains uppercase letters: False\n",
      "Contains lowercase letters: True\n",
      "Contains digits: False\n",
      "Contains special characters: False\n",
      "Password strength: Weak\n"
     ]
    }
   ],
   "source": [
    "# Prompt the user to enter a password\n",
    "password = input(\"Enter a password: \")\n",
    "\n",
    "# Check the presence of character types using Boolean variables\n",
    "contains_uppercase = any(char.isupper() for char in password)\n",
    "contains_lowercase = any(char.islower() for char in password)\n",
    "contains_digit = any(char.isdigit() for char in password)\n",
    "contains_special = any(not char.isalnum() for char in password)\n",
    "\n",
    "# Store the password length using an integer\n",
    "password_length = len(password)\n",
    "\n",
    "# Define a threshold for strong password length\n",
    "strength_threshold = 8\n",
    "\n",
    "# Determine if the password is strong (simple logic)\n",
    "is_strong = (contains_uppercase and contains_lowercase and contains_digit and contains_special and password_length >= strength_threshold)\n",
    "\n",
    "# Display the analysis results\n",
    "print(\"Password length:\", password_length, \"characters\")\n",
    "print(\"Contains uppercase letters:\", contains_uppercase)\n",
    "print(\"Contains lowercase letters:\", contains_lowercase)\n",
    "print(\"Contains digits:\", contains_digit)\n",
    "print(\"Contains special characters:\", contains_special)\n",
    "print(\"Password strength:\", \"Strong\" if is_strong else \"Weak\")\n"
   ]
  },
  {
   "cell_type": "code",
   "execution_count": 7,
   "id": "ffede165-2e63-40a2-841d-615363a4eee9",
   "metadata": {},
   "outputs": [
    {
     "name": "stdin",
     "output_type": "stream",
     "text": [
      "Enter a password:  hello123\n"
     ]
    },
    {
     "name": "stdout",
     "output_type": "stream",
     "text": [
      "Password length: 8 characters\n",
      "Contains uppercase letters: False\n",
      "Contains lowercase letters: True\n",
      "Contains digits: True\n",
      "Contains special characters: False\n",
      "Password strength: Weak\n"
     ]
    }
   ],
   "source": [
    "# Prompt the user to enter a password\n",
    "password = input(\"Enter a password: \")\n",
    "\n",
    "# Check the presence of character types using Boolean variables\n",
    "contains_uppercase = any(char.isupper() for char in password)\n",
    "contains_lowercase = any(char.islower() for char in password)\n",
    "contains_digit = any(char.isdigit() for char in password)\n",
    "contains_special = any(not char.isalnum() for char in password)\n",
    "\n",
    "# Store the password length using an integer\n",
    "password_length = len(password)\n",
    "\n",
    "# Define a threshold for strong password length\n",
    "strength_threshold = 8\n",
    "\n",
    "# Determine if the password is strong (simple logic)\n",
    "is_strong = (contains_uppercase and contains_lowercase and contains_digit and contains_special and password_length >= strength_threshold)\n",
    "\n",
    "# Display the analysis results\n",
    "print(\"Password length:\", password_length, \"characters\")\n",
    "print(\"Contains uppercase letters:\", contains_uppercase)\n",
    "print(\"Contains lowercase letters:\", contains_lowercase)\n",
    "print(\"Contains digits:\", contains_digit)\n",
    "print(\"Contains special characters:\", contains_special)\n",
    "print(\"Password strength:\", \"Strong\" if is_strong else \"Weak\")\n"
   ]
  },
  {
   "cell_type": "code",
   "execution_count": 9,
   "id": "f69cdbbf-1cc5-4aa9-94ed-3001fc41b059",
   "metadata": {},
   "outputs": [
    {
     "name": "stdin",
     "output_type": "stream",
     "text": [
      "Enter a password:  Hello@123\n"
     ]
    },
    {
     "name": "stdout",
     "output_type": "stream",
     "text": [
      "Password length: 9 characters\n",
      "Contains uppercase letters: True\n",
      "Contains lowercase letters: True\n",
      "Contains digits: True\n",
      "Contains special characters: True\n",
      "Password strength: Strong\n"
     ]
    }
   ],
   "source": [
    "# Prompt the user to enter a password\n",
    "password = input(\"Enter a password: \")\n",
    "\n",
    "# Check the presence of character types using Boolean variables\n",
    "contains_uppercase = any(char.isupper() for char in password)\n",
    "contains_lowercase = any(char.islower() for char in password)\n",
    "contains_digit = any(char.isdigit() for char in password)\n",
    "contains_special = any(not char.isalnum() for char in password)\n",
    "\n",
    "# Store the password length using an integer\n",
    "password_length = len(password)\n",
    "\n",
    "# Define a threshold for strong password length\n",
    "strength_threshold = 8\n",
    "\n",
    "# Determine if the password is strong (simple logic)\n",
    "is_strong = (contains_uppercase and contains_lowercase and contains_digit and contains_special and password_length >= strength_threshold)\n",
    "\n",
    "# Display the analysis results\n",
    "print(\"Password length:\", password_length, \"characters\")\n",
    "print(\"Contains uppercase letters:\", contains_uppercase)\n",
    "print(\"Contains lowercase letters:\", contains_lowercase)\n",
    "print(\"Contains digits:\", contains_digit)\n",
    "print(\"Contains special characters:\", contains_special)\n",
    "print(\"Password strength:\", \"Strong\" if is_strong else \"Weak\")\n"
   ]
  },
  {
   "cell_type": "code",
   "execution_count": 13,
   "id": "ddc85598-00af-469e-9be9-6b81f302c3fb",
   "metadata": {},
   "outputs": [
    {
     "name": "stdin",
     "output_type": "stream",
     "text": [
      "Enter a password:  hello\n"
     ]
    },
    {
     "name": "stdout",
     "output_type": "stream",
     "text": [
      "Password is less than 6 characters. Try again.\n"
     ]
    },
    {
     "name": "stdin",
     "output_type": "stream",
     "text": [
      "Enter a password:  \n"
     ]
    },
    {
     "name": "stdout",
     "output_type": "stream",
     "text": [
      "Password is less than 6 characters. Try again.\n"
     ]
    },
    {
     "name": "stdin",
     "output_type": "stream",
     "text": [
      "Enter a password:  hello\n"
     ]
    },
    {
     "name": "stdout",
     "output_type": "stream",
     "text": [
      "Password is less than 6 characters. Try again.\n"
     ]
    },
    {
     "name": "stdin",
     "output_type": "stream",
     "text": [
      "Enter a password:  Hello123\n"
     ]
    },
    {
     "name": "stdout",
     "output_type": "stream",
     "text": [
      "Password is medium strength. Consider adding special characters (@, #, $, etc.).\n"
     ]
    },
    {
     "name": "stdin",
     "output_type": "stream",
     "text": [
      "Enter a password:  Hello@1234\n"
     ]
    },
    {
     "name": "stdout",
     "output_type": "stream",
     "text": [
      "Password is strong. Well done!\n"
     ]
    }
   ],
   "source": [
    "def analyze_password(password):\n",
    "    contains_uppercase = any(char.isupper() for char in password)\n",
    "    contains_lowercase = any(char.islower() for char in password)\n",
    "    contains_digit = any(char.isdigit() for char in password)\n",
    "    contains_special = any(char in '@#$%' for char in password)\n",
    "\n",
    "    if len(password) < 6:\n",
    "        return \"Weak\", \"Password is less than 6 characters. Try again.\"\n",
    "    elif contains_uppercase and contains_lowercase and contains_digit and contains_special:\n",
    "        return \"Strong\", \"Password is strong. Well done!\"\n",
    "    else:\n",
    "        return \"Medium\", \"Password is medium strength. Consider adding special characters (@, #, $, etc.).\"\n",
    "\n",
    "# Feedback loop to prompt the user until a \"Strong\" password is entered\n",
    "while True:\n",
    "    password = input(\"Enter a password: \")\n",
    "    category, feedback = analyze_password(password)\n",
    "    print(feedback)\n",
    "    if category == \"Strong\":\n",
    "        break\n"
   ]
  }
 ],
 "metadata": {
  "kernelspec": {
   "display_name": "Python 3 (ipykernel)",
   "language": "python",
   "name": "python3"
  },
  "language_info": {
   "codemirror_mode": {
    "name": "ipython",
    "version": 3
   },
   "file_extension": ".py",
   "mimetype": "text/x-python",
   "name": "python",
   "nbconvert_exporter": "python",
   "pygments_lexer": "ipython3",
   "version": "3.12.4"
  }
 },
 "nbformat": 4,
 "nbformat_minor": 5
}
