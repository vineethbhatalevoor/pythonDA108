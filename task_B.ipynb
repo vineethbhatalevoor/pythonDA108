{
 "cells": [
  {
   "cell_type": "code",
   "execution_count": 3,
   "id": "44aa217b-e724-4e1c-8cfc-50652e08f987",
   "metadata": {},
   "outputs": [
    {
     "name": "stdin",
     "output_type": "stream",
     "text": [
      "Enter the temperature in Celsius:  23\n"
     ]
    },
    {
     "name": "stdout",
     "output_type": "stream",
     "text": [
      "Celsius: 23.0 °C\n",
      "Fahrenheit: 73.4 °F\n"
     ]
    }
   ],
   "source": [
    "# task_B.py\n",
    "\n",
    "# Take input for temperature in Celsius\n",
    "celsius = float(input(\"Enter the temperature in Celsius: \"))\n",
    "\n",
    "# Convert Celsius to Fahrenheit using the formula F = (9/5)*C + 32\n",
    "fahrenheit = (9/5) * celsius + 32\n",
    "\n",
    "# Print the result\n",
    "print(f\"Celsius: {celsius} °C\")\n",
    "print(f\"Fahrenheit: {fahrenheit} °F\")\n"
   ]
  }
 ],
 "metadata": {
  "kernelspec": {
   "display_name": "Python 3 (ipykernel)",
   "language": "python",
   "name": "python3"
  },
  "language_info": {
   "codemirror_mode": {
    "name": "ipython",
    "version": 3
   },
   "file_extension": ".py",
   "mimetype": "text/x-python",
   "name": "python",
   "nbconvert_exporter": "python",
   "pygments_lexer": "ipython3",
   "version": "3.12.4"
  }
 },
 "nbformat": 4,
 "nbformat_minor": 5
}
